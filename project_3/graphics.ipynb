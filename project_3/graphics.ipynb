{
 "cells": [
  {
   "cell_type": "code",
   "execution_count": 41,
   "metadata": {},
   "outputs": [
    {
     "name": "stdout",
     "output_type": "stream",
     "text": [
      "The autoreload extension is already loaded. To reload it, use:\n",
      "  %reload_ext autoreload\n"
     ]
    }
   ],
   "source": [
    "%load_ext autoreload\n",
    "%autoreload\n",
    "from environment import Acrobat\n",
    "import actor\n",
    "import critic\n",
    "import agent"
   ]
  },
  {
   "cell_type": "code",
   "execution_count": null,
   "metadata": {},
   "outputs": [],
   "source": [
    "a = Acrobat()\n",
    "fig, ax = a.create_figure()\n",
    "a.render(fig, ax)"
   ]
  },
  {
   "cell_type": "code",
   "execution_count": 43,
   "metadata": {},
   "outputs": [
    {
     "name": "stdout",
     "output_type": "stream",
     "text": [
      "nn_Critic(\n",
      "  (fc_layers): ModuleList(\n",
      "    (0): Linear(in_features=28, out_features=20, bias=True)\n",
      "    (1): Linear(in_features=20, out_features=1, bias=True)\n",
      "  )\n",
      ")\n",
      "\n",
      "TRAINING STARTED...\n",
      "Run 100. Step avg: 299.92  Loss sum avg.: 15.14  Epsilon: 0.0050\n",
      "Run 200. Step avg: 300.00  Loss sum avg.: 1.78  Epsilon: 0.0050\n",
      "Run 300. Step avg: 300.00  Loss sum avg.: 0.15  Epsilon: 0.0050\n",
      "Run 400. Step avg: 300.00  Loss sum avg.: 0.11  Epsilon: 0.0050\n",
      "Run 500. Step avg: 300.00  Loss sum avg.: 0.09  Epsilon: 0.0050\n",
      "\n",
      "GOAL NOT REACHED!\n",
      "\n"
     ]
    }
   ],
   "source": [
    "env_aprox = Acrobat()\n",
    "\n",
    "actor_aprox = actor.Actor(env_aprox.num_actions,\n",
    "                          env_aprox.num_states,\n",
    "                          learning_rate=0.005,\n",
    "                          discount_factor=0.95,\n",
    "                          expl_rate=0.005,\n",
    "                          expl_decay=0.998,\n",
    "                          trace_decay=0.95)\n",
    "\n",
    "critic_nn = critic.Critic(len(env_aprox.get_state()), [20, 1], learning_rate=0.001, discount_factor=0.99)\n",
    "\n",
    "agent_aprox = agent.Agent(env_aprox, critic_nn, actor_aprox)\n",
    "\n",
    "train_history = agent_aprox.train(max_runs=500, max_length=300)"
   ]
  },
  {
   "cell_type": "code",
   "execution_count": 45,
   "metadata": {},
   "outputs": [
    {
     "data": {
      "image/png": "[encoded data removed]",
      "text/plain": [
       "<Figure size 1152x576 with 1 Axes>"
      ]
     },
     "metadata": {
      "needs_background": "light"
     },
     "output_type": "display_data"
    }
   ],
   "source": [
    "agent_aprox.render_episode()"
   ]
  }
 ],
 "metadata": {
  "interpreter": {
   "hash": "dc241449bad68dae3119fde763598251b849f9349d9d726ce63527756c6517e3"
  },
  "kernelspec": {
   "display_name": "Python 3.8.8 ('base')",
   "language": "python",
   "name": "python3"
  },
  "language_info": {
   "codemirror_mode": {
    "name": "ipython",
    "version": 3
   },
   "file_extension": ".py",
   "mimetype": "text/x-python",
   "name": "python",
   "nbconvert_exporter": "python",
   "pygments_lexer": "ipython3",
   "version": "3.8.8"
  },
  "orig_nbformat": 4
 },
 "nbformat": 4,
 "nbformat_minor": 2
}
