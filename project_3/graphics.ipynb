{
 "cells": [
  {
   "cell_type": "code",
   "execution_count": 32,
   "metadata": {},
   "outputs": [
    {
     "name": "stdout",
     "output_type": "stream",
     "text": [
      "The autoreload extension is already loaded. To reload it, use:\n",
      "  %reload_ext autoreload\n"
     ]
    }
   ],
   "source": [
    "%load_ext autoreload\n",
    "%autoreload\n",
    "from environment import Acrobat\n",
    "import actor\n",
    "import critic\n",
    "import agent"
   ]
  },
  {
   "cell_type": "code",
   "execution_count": null,
   "metadata": {},
   "outputs": [],
   "source": [
    "acrobot_env = Acrobat()\n",
    "\n",
    "actor_aprox = actor.Actor(acrobot_env.num_actions,\n",
    "                          acrobot_env.num_states)\n",
    "\n",
    "critic_nn = critic.Critic(len(acrobot_env.get_state()))\n",
    "\n",
    "agent_aprox = agent.Agent(acrobot_env, critic_nn, actor_aprox)\n",
    "\n",
    "train_history = agent_aprox.train(max_runs=3000, max_length=1500)"
   ]
  },
  {
   "cell_type": "code",
   "execution_count": null,
   "metadata": {},
   "outputs": [],
   "source": [
    "agent_aprox.render_episode(length=700)"
   ]
  },
  {
   "cell_type": "raw",
   "metadata": {},
   "source": [
    "basic"
   ]
  }
 ],
 "metadata": {
  "interpreter": {
   "hash": "dc241449bad68dae3119fde763598251b849f9349d9d726ce63527756c6517e3"
  },
  "kernelspec": {
   "display_name": "Python 3 (ipykernel)",
   "language": "python",
   "name": "python3"
  },
  "language_info": {
   "codemirror_mode": {
    "name": "ipython",
    "version": 3
   },
   "file_extension": ".py",
   "mimetype": "text/x-python",
   "name": "python",
   "nbconvert_exporter": "python",
   "pygments_lexer": "ipython3",
   "version": "3.9.7"
  }
 },
 "nbformat": 4,
 "nbformat_minor": 4
}
